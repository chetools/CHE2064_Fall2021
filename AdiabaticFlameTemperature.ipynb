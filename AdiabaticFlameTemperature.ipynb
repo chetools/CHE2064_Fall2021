{
  "nbformat": 4,
  "nbformat_minor": 0,
  "metadata": {
    "colab": {
      "name": "AdiabaticFlameTemperature.ipynb",
      "provenance": [],
      "authorship_tag": "ABX9TyNhG0aIeLqpYsypqFy3Xk0d",
      "include_colab_link": true
    },
    "kernelspec": {
      "name": "python3",
      "display_name": "Python 3"
    },
    "language_info": {
      "name": "python"
    }
  },
  "cells": [
    {
      "cell_type": "markdown",
      "metadata": {
        "id": "view-in-github",
        "colab_type": "text"
      },
      "source": [
        "<a href=\"https://colab.research.google.com/github/profteachkids/CHE2064_Fall2021/blob/main/AdiabaticFlameTemperature.ipynb\" target=\"_parent\"><img src=\"https://colab.research.google.com/assets/colab-badge.svg\" alt=\"Open In Colab\"/></a>"
      ]
    },
    {
      "cell_type": "code",
      "metadata": {
        "id": "ER0Pz19v3FiX"
      },
      "source": [
        "!git clone --depth 1 https://github.com/profteachkids/chetools &> /dev/null\n",
        "import sys\n",
        "sys.path.insert(1, \"/content/chetools\") #Path to CHE module imports"
      ],
      "execution_count": null,
      "outputs": []
    },
    {
      "cell_type": "code",
      "metadata": {
        "id": "aw227BaA3IZq"
      },
      "source": [
        "import numpy as np\n",
        "from scipy.optimize import root\n",
        "import tools.che as che\n",
        "R=8.314 # J/(mol K)"
      ],
      "execution_count": null,
      "outputs": []
    },
    {
      "cell_type": "code",
      "metadata": {
        "id": "omZmMpNT3Nsy"
      },
      "source": [
        "p = che.Props(['Methane', 'Ethane', 'nPropane', 'Oxygen', 'Nitrogen', 'CarbonDioxide', 'Water'])"
      ],
      "execution_count": 17,
      "outputs": []
    },
    {
      "cell_type": "code",
      "metadata": {
        "id": "VR8DKjLS4tPY"
      },
      "source": [
        "def deltaHsensIG(T):\n",
        "        return (p.CpIGA*T + p.CpIGB * p.CpIGC/np.tanh(p.CpIGC/T) - p.CpIGD * p.CpIGE * np.tanh(p.CpIGE/T))/1000"
      ],
      "execution_count": null,
      "outputs": []
    },
    {
      "cell_type": "code",
      "metadata": {
        "colab": {
          "base_uri": "https://localhost:8080/"
        },
        "id": "MMv4bnvc7qL2",
        "outputId": "1117ffd2-ef59-47d8-9fd6-cc187722d2cb"
      },
      "source": [
        "np.dot(np.array([1.,1., 1., 1., 2., 2., 3.,]), p.HfIG+ deltaHsensIG(400) - deltaHsensIG(298.15))"
      ],
      "execution_count": 18,
      "outputs": [
        {
          "output_type": "execute_result",
          "data": {
            "text/plain": [
              "-1730339.765306445"
            ]
          },
          "metadata": {},
          "execution_count": 18
        }
      ]
    },
    {
      "cell_type": "code",
      "metadata": {
        "colab": {
          "base_uri": "https://localhost:8080/"
        },
        "id": "NPcfOv3-7xx9",
        "outputId": "fca62433-0b36-4c64-8cb3-94d4bbf0d855"
      },
      "source": [
        "p.HfIG+ deltaHsensIG(400) - deltaHsensIG(298.15)"
      ],
      "execution_count": 19,
      "outputs": [
        {
          "output_type": "execute_result",
          "data": {
            "text/plain": [
              "array([ -70980.61819642,  -77780.56803685,  -96055.48335928,\n",
              "          3022.12507945,    2971.49034285, -389689.10167981,\n",
              "       -238369.99937314])"
            ]
          },
          "metadata": {},
          "execution_count": 19
        }
      ]
    },
    {
      "cell_type": "code",
      "metadata": {
        "id": "_1tjDH_V76Oj"
      },
      "source": [
        "# 2*(79/21) N2 + 2O2 + CH4 -> 2*(79/21)N2 + CO2 + 2H2O\n",
        "# (7/2)*(79/21) N2 + (7/2)O2 + C2H6 -> (7/2)*(79/21)N2 + 2CO2 + 3H2O"
      ],
      "execution_count": null,
      "outputs": []
    },
    {
      "cell_type": "code",
      "metadata": {
        "id": "tkQw-WBcPsg2"
      },
      "source": [
        "excess = 0.\n",
        "feedT = 300.\n",
        "fuelCHFormula = np.array([[1,4],\n",
        "                   [2,6],\n",
        "                   [3,8]])\n",
        "nfuel = np.array([1.,0.,0.])\n",
        "nC, nH = nfuel @ fuelCHFormula\n",
        "nCO2 = nC\n",
        "nH2O = nH/2\n",
        "nO2 = (nC + nH2O/2)*(1+excess)\n",
        "nN2 = 79/21*nO2\n",
        "\n",
        "feedn = np.concatenate((nfuel, np.array([nO2, nN2, 0., 0.])))\n",
        "prodn = np.concatenate((np.zeros_like(nfuel), np.array([(nC+nH2O/2)*excess, nN2, nCO2, nH2O])))"
      ],
      "execution_count": 44,
      "outputs": []
    },
    {
      "cell_type": "code",
      "metadata": {
        "id": "f9XRrBm_TasJ"
      },
      "source": [
        "def deltaHsensIG(T):\n",
        "    return (p.CpIGA*T + p.CpIGB * p.CpIGC/np.tanh(p.CpIGC/T) - p.CpIGD * p.CpIGE * np.tanh(p.CpIGE/T))/1000\n",
        "\n",
        "def deltaHIG(n,T):\n",
        "    return np.dot(n, p.HfIG + deltaHsensIG(T))\n"
      ],
      "execution_count": 49,
      "outputs": []
    },
    {
      "cell_type": "code",
      "metadata": {
        "colab": {
          "base_uri": "https://localhost:8080/"
        },
        "id": "Zj4sN-nmTdjh",
        "outputId": "b5cf20a0-bc39-4125-c251-fdb531bfc5a4"
      },
      "source": [
        "deltaHIG(prodn, 2300.)"
      ],
      "execution_count": 57,
      "outputs": [
        {
          "output_type": "execute_result",
          "data": {
            "text/plain": [
              "270271.9537297792"
            ]
          },
          "metadata": {},
          "execution_count": 57
        }
      ]
    },
    {
      "cell_type": "code",
      "metadata": {
        "colab": {
          "base_uri": "https://localhost:8080/"
        },
        "id": "7B1DbjXBT6q5",
        "outputId": "5eec702a-314a-4294-db71-f044de026ad5"
      },
      "source": [
        "deltaHIG(feedn,300.)"
      ],
      "execution_count": 52,
      "outputs": [
        {
          "output_type": "execute_result",
          "data": {
            "text/plain": [
              "283997.2265262645"
            ]
          },
          "metadata": {},
          "execution_count": 52
        }
      ]
    },
    {
      "cell_type": "code",
      "metadata": {
        "id": "hKqyrzT9RkJ8"
      },
      "source": [
        "def energy_balance(T):\n",
        "    return deltaHIG(prodn, T) - deltaHIG(feedn,feedT)"
      ],
      "execution_count": 58,
      "outputs": []
    },
    {
      "cell_type": "code",
      "metadata": {
        "colab": {
          "base_uri": "https://localhost:8080/"
        },
        "id": "go1Hp-OKUKRR",
        "outputId": "8afeff28-4797-43ba-becb-b86e9e1b7acb"
      },
      "source": [
        "root(energy_balance, [2000.])"
      ],
      "execution_count": 59,
      "outputs": [
        {
          "output_type": "execute_result",
          "data": {
            "text/plain": [
              "    fjac: array([[-1.]])\n",
              "     fun: 4.0745362639427185e-10\n",
              " message: 'The solution converged.'\n",
              "    nfev: 6\n",
              "     qtf: array([0.00077585])\n",
              "       r: array([-441.0868811])\n",
              "  status: 1\n",
              " success: True\n",
              "       x: array([2331.13852626])"
            ]
          },
          "metadata": {},
          "execution_count": 59
        }
      ]
    },
    {
      "cell_type": "code",
      "metadata": {
        "id": "Gd2DQzwvUNp5"
      },
      "source": [
        ""
      ],
      "execution_count": null,
      "outputs": []
    }
  ]
}