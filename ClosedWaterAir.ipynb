{
  "nbformat": 4,
  "nbformat_minor": 0,
  "metadata": {
    "colab": {
      "name": "ClosedWaterAir.ipynb",
      "provenance": [],
      "collapsed_sections": [],
      "authorship_tag": "ABX9TyMYy8dSdsJsUaUo4FjrIfdA",
      "include_colab_link": true
    },
    "kernelspec": {
      "name": "python3",
      "display_name": "Python 3"
    },
    "language_info": {
      "name": "python"
    }
  },
  "cells": [
    {
      "cell_type": "markdown",
      "metadata": {
        "id": "view-in-github",
        "colab_type": "text"
      },
      "source": [
        "<a href=\"https://colab.research.google.com/github/profteachkids/CHE2064_Fall2021/blob/main/ClosedWaterAir.ipynb\" target=\"_parent\"><img src=\"https://colab.research.google.com/assets/colab-badge.svg\" alt=\"Open In Colab\"/></a>"
      ]
    },
    {
      "cell_type": "code",
      "metadata": {
        "id": "maN4qlF4RycX"
      },
      "source": [
        "!git clone --depth 1 https://github.com/profteachkids/chetools.git &> /dev/null\n",
        "import sys\n",
        "sys.path.insert(1, \"/content/chetools\") #Path to CHE module imports"
      ],
      "execution_count": 1,
      "outputs": []
    },
    {
      "cell_type": "code",
      "metadata": {
        "id": "14RBMQIfR6DZ"
      },
      "source": [
        "import tools.che as che\n",
        "from scipy.optimize import root\n",
        "R=8.314"
      ],
      "execution_count": 2,
      "outputs": []
    },
    {
      "cell_type": "code",
      "metadata": {
        "colab": {
          "base_uri": "https://localhost:8080/"
        },
        "id": "y6F1BrkISC2h",
        "outputId": "09fe1902-e31c-4de9-a804-37a1f35a7a0e"
      },
      "source": [
        "p=che.Props(['Water'])"
      ],
      "execution_count": 3,
      "outputs": [
        {
          "output_type": "stream",
          "name": "stderr",
          "text": [
            "WARNING:absl:No GPU/TPU found, falling back to CPU. (Set TF_CPP_MIN_LOG_LEVEL=0 and rerun for more info.)\n"
          ]
        }
      ]
    },
    {
      "cell_type": "code",
      "metadata": {
        "id": "ToR5LPk6SNln"
      },
      "source": [
        "Wtot = 1.0\n",
        "Vtot = 0.01\n",
        "Pi = 1e5\n",
        "P_desired = 2e5\n",
        "Ti = 298\n",
        "\n",
        "Vwi = Wtot/p.rhol(Ti)\n",
        "Vvap = Vtot - Vwi\n",
        "airn = Pi * Vvap/(R*Ti)"
      ],
      "execution_count": 4,
      "outputs": []
    },
    {
      "cell_type": "code",
      "metadata": {
        "id": "G2jnNtGqSQKP"
      },
      "source": [
        "# Temperature to achieve desired final pressure\n",
        "def eqs(x):\n",
        "    T=x[0]\n",
        "\n",
        "    Pw = p.Pvap(T)\n",
        "    P = airn*R*T/Vvap + Pw\n",
        "    return P_desired - P"
      ],
      "execution_count": 5,
      "outputs": []
    },
    {
      "cell_type": "code",
      "metadata": {
        "colab": {
          "base_uri": "https://localhost:8080/"
        },
        "id": "sQcAMEPISaKA",
        "outputId": "3d17c4dd-8602-465d-9d73-325e475a7c99"
      },
      "source": [
        "root(eqs, 400)"
      ],
      "execution_count": 6,
      "outputs": [
        {
          "output_type": "execute_result",
          "data": {
            "text/plain": [
              "    fjac: array([[-1.]])\n",
              "     fun: -1.4260876923799515e-09\n",
              " message: 'The solution converged.'\n",
              "    nfev: 9\n",
              "     qtf: array([0.00040256])\n",
              "       r: array([3219.65388595])\n",
              "  status: 1\n",
              " success: True\n",
              "       x: array([365.71923532])"
            ]
          },
          "metadata": {},
          "execution_count": 6
        }
      ]
    },
    {
      "cell_type": "code",
      "metadata": {
        "id": "BqolNsCPT0nH"
      },
      "source": [
        "# Temperature and volume to achieved desired final pressure and moles of water vapor\n",
        "def eqs(x):\n",
        "    T=x[0]\n",
        "    Vtot = x[1]\n",
        "\n",
        "    Pw = p.Pvap(T)\n",
        "    Vvap = Vtot - (Vwi-Wnvap_desired*p.Mw/1e3/p.rhol(T))\n",
        "    airn = Pi * Vvap/(R*Ti)\n",
        "    P = airn * R *T / Vvap + Pw\n",
        "\n",
        "    Wnvap = Pw * Vvap / (R*T)\n",
        "    return P_desired - P, Wnvap - Wnvap_desired"
      ],
      "execution_count": 16,
      "outputs": []
    },
    {
      "cell_type": "code",
      "metadata": {
        "id": "VL_vnNL_VUGU"
      },
      "source": [
        "Wnvap_desired = 0.3"
      ],
      "execution_count": 17,
      "outputs": []
    },
    {
      "cell_type": "code",
      "metadata": {
        "colab": {
          "base_uri": "https://localhost:8080/"
        },
        "id": "7qQnibZTVYAU",
        "outputId": "b9324915-8ab7-43d1-b638-f9e67651ec34"
      },
      "source": [
        "root(eqs, [400, 0.02])"
      ],
      "execution_count": 18,
      "outputs": [
        {
          "output_type": "execute_result",
          "data": {
            "text/plain": [
              "    fjac: array([[-0.98367685, -0.17994404],\n",
              "       [ 0.17994404, -0.98367685]])\n",
              "     fun: array([3.37604433e-09, 1.36754861e-04])\n",
              " message: 'The solution converged.'\n",
              "    nfev: 11\n",
              "     qtf: array([-0.00104481, -0.00571139])\n",
              "       r: array([3273.0833548 ,   -4.68353317,  -25.60278419])\n",
              "  status: 1\n",
              " success: True\n",
              "       x: array([3.65719235e+02, 1.28090639e-02])"
            ]
          },
          "metadata": {},
          "execution_count": 18
        }
      ]
    },
    {
      "cell_type": "code",
      "metadata": {
        "id": "qgS8vSLBVdD1",
        "outputId": "b3beb0e7-8e02-4aa9-e818-63663b649613",
        "colab": {
          "base_uri": "https://localhost:8080/"
        }
      },
      "source": [
        ""
      ],
      "execution_count": 11,
      "outputs": [
        {
          "output_type": "execute_result",
          "data": {
            "text/plain": [
              "DeviceArray(995.0336223, dtype=float64)"
            ]
          },
          "metadata": {},
          "execution_count": 11
        }
      ]
    },
    {
      "cell_type": "code",
      "metadata": {
        "id": "Xgtd72mbWqho",
        "outputId": "8cd0b562-608b-422c-b9fd-b57659b0511e",
        "colab": {
          "base_uri": "https://localhost:8080/"
        }
      },
      "source": [
        "p.Mw"
      ],
      "execution_count": 12,
      "outputs": [
        {
          "output_type": "execute_result",
          "data": {
            "text/plain": [
              "18.015"
            ]
          },
          "metadata": {},
          "execution_count": 12
        }
      ]
    },
    {
      "cell_type": "code",
      "metadata": {
        "id": "PpjlzLlwWz0E"
      },
      "source": [
        ""
      ],
      "execution_count": null,
      "outputs": []
    }
  ]
}