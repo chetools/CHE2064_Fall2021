{
  "nbformat": 4,
  "nbformat_minor": 0,
  "metadata": {
    "colab": {
      "name": "ClosedWaterAir.ipynb",
      "provenance": [],
      "collapsed_sections": [],
      "authorship_tag": "ABX9TyO0Zx3AZZ2K/n8uPT2ReOGA",
      "include_colab_link": true
    },
    "kernelspec": {
      "name": "python3",
      "display_name": "Python 3"
    },
    "language_info": {
      "name": "python"
    }
  },
  "cells": [
    {
      "cell_type": "markdown",
      "metadata": {
        "id": "view-in-github",
        "colab_type": "text"
      },
      "source": [
        "<a href=\"https://colab.research.google.com/github/profteachkids/CHE2064_Fall2021/blob/main/ClosedWaterAir.ipynb\" target=\"_parent\"><img src=\"https://colab.research.google.com/assets/colab-badge.svg\" alt=\"Open In Colab\"/></a>"
      ]
    },
    {
      "cell_type": "code",
      "metadata": {
        "id": "maN4qlF4RycX"
      },
      "source": [
        "!git clone --depth 1 https://github.com/profteachkids/CHE2064.git &> /dev/null\n",
        "!pip install DotMap &> /dev/null\n",
        "import sys\n",
        "sys.path.insert(1, \"/content/CHE2064\") #Path to CHE module imports"
      ],
      "execution_count": 1,
      "outputs": []
    },
    {
      "cell_type": "code",
      "metadata": {
        "id": "14RBMQIfR6DZ"
      },
      "source": [
        "import tools.che as che\n",
        "import jax.numpy as jnp\n",
        "from scipy.optimize import root\n",
        "R=8.314"
      ],
      "execution_count": 20,
      "outputs": []
    },
    {
      "cell_type": "code",
      "metadata": {
        "colab": {
          "base_uri": "https://localhost:8080/"
        },
        "id": "y6F1BrkISC2h",
        "outputId": "a17a6897-1eeb-4828-ea3e-fef925116a45"
      },
      "source": [
        "p=che.Props(['Water'])"
      ],
      "execution_count": 4,
      "outputs": [
        {
          "output_type": "stream",
          "text": [
            "WARNING:absl:No GPU/TPU found, falling back to CPU. (Set TF_CPP_MIN_LOG_LEVEL=0 and rerun for more info.)\n"
          ],
          "name": "stderr"
        }
      ]
    },
    {
      "cell_type": "code",
      "metadata": {
        "id": "ToR5LPk6SNln"
      },
      "source": [
        "Wtot = 1.0\n",
        "Vtot = 0.01\n",
        "Pi = 1e5\n",
        "P_desired = 2e5\n",
        "Ti = 298\n",
        "\n",
        "Vwi = Wtot/p.rhol(Ti)\n",
        "Vvap = Vtot - Vwi\n",
        "airn = Pi * Vvap/(R*Ti)"
      ],
      "execution_count": 24,
      "outputs": []
    },
    {
      "cell_type": "code",
      "metadata": {
        "id": "G2jnNtGqSQKP"
      },
      "source": [
        "# Temperature to achieve desired final pressure\n",
        "def eqs(x):\n",
        "    T=x[0]\n",
        "\n",
        "    Pw = p.Pvap(T)\n",
        "    P = airn*R*T/Vvap + Pw\n",
        "    return P_desired - P"
      ],
      "execution_count": 25,
      "outputs": []
    },
    {
      "cell_type": "code",
      "metadata": {
        "colab": {
          "base_uri": "https://localhost:8080/"
        },
        "id": "sQcAMEPISaKA",
        "outputId": "52778f12-4662-4e97-a086-8c87cd82d548"
      },
      "source": [
        "root(eqs, 400)"
      ],
      "execution_count": 26,
      "outputs": [
        {
          "output_type": "execute_result",
          "data": {
            "text/plain": [
              "    fjac: array([[-1.]])\n",
              "     fun: -1.4260876923799515e-09\n",
              " message: 'The solution converged.'\n",
              "    nfev: 9\n",
              "     qtf: array([0.00040256])\n",
              "       r: array([3219.65388595])\n",
              "  status: 1\n",
              " success: True\n",
              "       x: array([365.71923532])"
            ]
          },
          "metadata": {},
          "execution_count": 26
        }
      ]
    },
    {
      "cell_type": "code",
      "metadata": {
        "id": "BqolNsCPT0nH"
      },
      "source": [
        "# Temperature and volume to achieved desired final pressure and moles of water vapor\n",
        "def eqs(x):\n",
        "    T=x[0]\n",
        "    Vtot = x[1]\n",
        "\n",
        "    Pw = p.Pvap(T)\n",
        "    Vvap = Vtot - Vwi #ignore change in volume of liquid water\n",
        "    airn = Pi * Vvap/(R*Ti)\n",
        "    P = airn * R *T / Vvap + Pw\n",
        "\n",
        "    Wnvap = Pw * Vvap / (R*T)\n",
        "    return P_desired - P, Wnvap - Wnvap_desired"
      ],
      "execution_count": 30,
      "outputs": []
    },
    {
      "cell_type": "code",
      "metadata": {
        "id": "VL_vnNL_VUGU"
      },
      "source": [
        "Wnvap_desired = 0.3"
      ],
      "execution_count": 31,
      "outputs": []
    },
    {
      "cell_type": "code",
      "metadata": {
        "colab": {
          "base_uri": "https://localhost:8080/"
        },
        "id": "7qQnibZTVYAU",
        "outputId": "574599ff-ac60-4e1d-9b88-c8d654941dab"
      },
      "source": [
        "root(eqs, [400, 0.02])"
      ],
      "execution_count": 32,
      "outputs": [
        {
          "output_type": "execute_result",
          "data": {
            "text/plain": [
              "    fjac: array([[-0.98365413, -0.18006821],\n",
              "       [ 0.18006821, -0.98365413]])\n",
              "     fun: array([4.59840521e-09, 1.36847165e-04])\n",
              " message: 'The solution converged.'\n",
              "    nfev: 11\n",
              "     qtf: array([-0.00104467, -0.00570655])\n",
              "       r: array([3273.15891294,   -4.68693932,  -25.60311944])\n",
              "  status: 1\n",
              " success: True\n",
              "       x: array([3.65719235e+02, 1.28146062e-02])"
            ]
          },
          "metadata": {},
          "execution_count": 32
        }
      ]
    },
    {
      "cell_type": "code",
      "metadata": {
        "id": "qgS8vSLBVdD1"
      },
      "source": [
        ""
      ],
      "execution_count": null,
      "outputs": []
    }
  ]
}