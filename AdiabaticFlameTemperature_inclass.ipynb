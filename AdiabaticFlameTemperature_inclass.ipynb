{
  "nbformat": 4,
  "nbformat_minor": 0,
  "metadata": {
    "colab": {
      "name": "AdiabaticFlameTemperature_inclass.ipynb",
      "provenance": [],
      "authorship_tag": "ABX9TyO3oXx4jXqCCEFfmexQxAAV",
      "include_colab_link": true
    },
    "kernelspec": {
      "name": "python3",
      "display_name": "Python 3"
    },
    "language_info": {
      "name": "python"
    }
  },
  "cells": [
    {
      "cell_type": "markdown",
      "metadata": {
        "id": "view-in-github",
        "colab_type": "text"
      },
      "source": [
        "<a href=\"https://colab.research.google.com/github/profteachkids/CHE2064_Fall2021/blob/main/AdiabaticFlameTemperature_inclass.ipynb\" target=\"_parent\"><img src=\"https://colab.research.google.com/assets/colab-badge.svg\" alt=\"Open In Colab\"/></a>"
      ]
    },
    {
      "cell_type": "code",
      "metadata": {
        "id": "-E9zu945IHGl"
      },
      "source": [
        "!git clone --depth 1 https://github.com/profteachkids/chetools &> /dev/null\n",
        "import sys\n",
        "sys.path.insert(1, \"/content/chetools\") #Path to CHE module imports"
      ],
      "execution_count": 3,
      "outputs": []
    },
    {
      "cell_type": "code",
      "metadata": {
        "id": "YmQuLsbmIHvp"
      },
      "source": [
        "import numpy as np\n",
        "from scipy.optimize import root\n",
        "import tools.che as che\n",
        "R=8.314 # J/(mol K)"
      ],
      "execution_count": 4,
      "outputs": []
    },
    {
      "cell_type": "code",
      "metadata": {
        "id": "_zhug1OLIJZG"
      },
      "source": [
        "p=che.Props(['Methane', 'Ethane','nPropane', 'Oxygen', 'Nitrogen',\n",
        "             'CarbonDioxide','Water'])"
      ],
      "execution_count": 12,
      "outputs": []
    },
    {
      "cell_type": "code",
      "metadata": {
        "id": "Z_lPMUMPQtM-"
      },
      "source": [
        "def deltaHsensIG(T):\n",
        "        return (p.CpIGA*T + p.CpIGB * p.CpIGC/np.tanh(p.CpIGC/T) - p.CpIGD * p.CpIGE * np.tanh(p.CpIGE/T))/1000"
      ],
      "execution_count": 9,
      "outputs": []
    },
    {
      "cell_type": "code",
      "metadata": {
        "id": "hXn2vBaIY1UR"
      },
      "source": [
        "def HIG(n, T):\n",
        "    return np.dot(n,p.HfIG) + np.dot(n,deltaHsensIG(T)-deltaHsensIG(298))"
      ],
      "execution_count": 28,
      "outputs": []
    },
    {
      "cell_type": "code",
      "metadata": {
        "id": "ucRZiLpWSskH"
      },
      "source": [
        "fuelformula = np.array([[1,4],\n",
        "                        [2,6],\n",
        "                        [3,8]])\n",
        "nfuel=np.array([10.,1.5,1.])\n",
        "nC, nH = nfuel @ fuelformula\n",
        "nCO2 = nC\n",
        "nH2O = nH/2\n",
        "nO2 = (nC + nH2O/2)\n",
        "nN2 = 79/21 * nO2"
      ],
      "execution_count": 20,
      "outputs": []
    },
    {
      "cell_type": "code",
      "metadata": {
        "colab": {
          "base_uri": "https://localhost:8080/"
        },
        "id": "8CV6tpG_WGvy",
        "outputId": "16e11e8a-4f35-41fe-9c78-e2031e8d2418"
      },
      "source": [
        "p.HfIG"
      ],
      "execution_count": 21,
      "outputs": [
        {
          "output_type": "execute_result",
          "data": {
            "text/plain": [
              "array([ -74850.        ,  -83850.        , -104680.        ,\n",
              "             0.        ,       0.        , -393720.98479714,\n",
              "       -241820.        ])"
            ]
          },
          "metadata": {},
          "execution_count": 21
        }
      ]
    },
    {
      "cell_type": "code",
      "metadata": {
        "id": "OjB7YMq1WW_8"
      },
      "source": [
        "nfeed = np.concatenate([nfuel, np.array([nO2, nN2, 0., 0.])])\n",
        "nprod = np.concatenate([np.zeros_like(nfuel), np.array([0., nN2, nCO2, nH2O])])"
      ],
      "execution_count": 24,
      "outputs": []
    },
    {
      "cell_type": "code",
      "metadata": {
        "colab": {
          "base_uri": "https://localhost:8080/"
        },
        "id": "wSOXiT32Xkqb",
        "outputId": "cbb88e73-8d62-4c4b-cefb-bad349fcef6d"
      },
      "source": [
        "HIG(nfeed,300)"
      ],
      "execution_count": 29,
      "outputs": [
        {
          "output_type": "execute_result",
          "data": {
            "text/plain": [
              "-969527.112255027"
            ]
          },
          "metadata": {},
          "execution_count": 29
        }
      ]
    },
    {
      "cell_type": "code",
      "metadata": {
        "colab": {
          "base_uri": "https://localhost:8080/"
        },
        "id": "E7O2BfJUYIhb",
        "outputId": "987172f3-79b5-43f2-f2ba-5b3927b164b9"
      },
      "source": [
        "HIG(nprod, 2350)"
      ],
      "execution_count": 38,
      "outputs": [
        {
          "output_type": "execute_result",
          "data": {
            "text/plain": [
              "-959892.1585373022"
            ]
          },
          "metadata": {},
          "execution_count": 38
        }
      ]
    },
    {
      "cell_type": "code",
      "metadata": {
        "id": "wPju1yVFYaVz"
      },
      "source": [
        "def energy_eq(v):\n",
        "    T=v[0]\n",
        "    return HIG(nfeed,300)-HIG(nprod,T)"
      ],
      "execution_count": 39,
      "outputs": []
    },
    {
      "cell_type": "code",
      "metadata": {
        "colab": {
          "base_uri": "https://localhost:8080/"
        },
        "id": "PivsQXddZ5zf",
        "outputId": "4acd45c1-2727-4d5e-e45d-7ab915b39a34"
      },
      "source": [
        "root(energy_eq,[300.])"
      ],
      "execution_count": 40,
      "outputs": [
        {
          "output_type": "execute_result",
          "data": {
            "text/plain": [
              "    fjac: array([[-1.]])\n",
              "     fun: -1.3969838619232178e-09\n",
              " message: 'The solution converged.'\n",
              "    nfev: 8\n",
              "     qtf: array([-2.03237869e-05])\n",
              "       r: array([6637.35852689])\n",
              "  status: 1\n",
              " success: True\n",
              "       x: array([2348.54842008])"
            ]
          },
          "metadata": {},
          "execution_count": 40
        }
      ]
    },
    {
      "cell_type": "code",
      "metadata": {
        "id": "_QiL0aaeZ8o3"
      },
      "source": [
        ""
      ],
      "execution_count": null,
      "outputs": []
    }
  ]
}