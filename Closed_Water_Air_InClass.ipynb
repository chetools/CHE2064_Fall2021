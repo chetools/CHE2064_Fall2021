{
  "nbformat": 4,
  "nbformat_minor": 0,
  "metadata": {
    "colab": {
      "name": "Closed_Water_Air_InClass.ipynb",
      "provenance": [],
      "authorship_tag": "ABX9TyMDCXLMgNAcpezLr6S2Uu5o",
      "include_colab_link": true
    },
    "kernelspec": {
      "name": "python3",
      "display_name": "Python 3"
    },
    "language_info": {
      "name": "python"
    }
  },
  "cells": [
    {
      "cell_type": "markdown",
      "metadata": {
        "id": "view-in-github",
        "colab_type": "text"
      },
      "source": [
        "<a href=\"https://colab.research.google.com/github/profteachkids/CHE2064_Fall2021/blob/main/Closed_Water_Air_InClass.ipynb\" target=\"_parent\"><img src=\"https://colab.research.google.com/assets/colab-badge.svg\" alt=\"Open In Colab\"/></a>"
      ]
    },
    {
      "cell_type": "code",
      "metadata": {
        "id": "HN_9PBkXxwnV"
      },
      "source": [
        "!git clone --depth 1 https://github.com/profteachkids/chetools.git &> /dev/null\n",
        "import sys\n",
        "sys.path.insert(1, \"/content/chetools\") #Path to CHE module imports"
      ],
      "execution_count": 1,
      "outputs": []
    },
    {
      "cell_type": "code",
      "metadata": {
        "id": "uSBekx7qyGY-"
      },
      "source": [
        "import tools.che as che\n",
        "from scipy.optimize import root\n",
        "R=8.314 #J/(mol K)"
      ],
      "execution_count": 2,
      "outputs": []
    },
    {
      "cell_type": "code",
      "metadata": {
        "id": "XoyAyavIy_i3",
        "colab": {
          "base_uri": "https://localhost:8080/"
        },
        "outputId": "ba75cbf7-8d75-4ebc-ae19-f95ffdcbf1e9"
      },
      "source": [
        "p=che.Props(['Water'])"
      ],
      "execution_count": 3,
      "outputs": [
        {
          "output_type": "stream",
          "name": "stderr",
          "text": [
            "WARNING:absl:No GPU/TPU found, falling back to CPU. (Set TF_CPP_MIN_LOG_LEVEL=0 and rerun for more info.)\n"
          ]
        }
      ]
    },
    {
      "cell_type": "code",
      "metadata": {
        "id": "6xkB860DzaKB"
      },
      "source": [
        "Vtot = 0.1 #m3\n",
        "Wi = 1 #kg\n",
        "Pi = 101325 #Pa\n",
        "Pf = 2e5 #Pa (desired final pressure)\n",
        "Ti = 298 #K (initial temperature)"
      ],
      "execution_count": 4,
      "outputs": []
    },
    {
      "cell_type": "code",
      "metadata": {
        "colab": {
          "base_uri": "https://localhost:8080/"
        },
        "id": "u1PqyKkg2BP4",
        "outputId": "db34751d-fb48-4fe4-bea6-adae7e78910e"
      },
      "source": [
        "p.rhol(Ti)  # density of the compound in the liquid phase  (water)"
      ],
      "execution_count": 5,
      "outputs": [
        {
          "output_type": "execute_result",
          "data": {
            "text/plain": [
              "DeviceArray(995.0336223, dtype=float64, weak_type=True)"
            ]
          },
          "metadata": {},
          "execution_count": 5
        }
      ]
    },
    {
      "cell_type": "code",
      "metadata": {
        "id": "8fw_6psC0niX"
      },
      "source": [
        "nair = (Pi - p.Pvap(Ti))*(Vtot - Wi/p.rhol(Ti))/(R*Ti)  # number of moles of air in vapor phase, this is fixed between initial and final states"
      ],
      "execution_count": 6,
      "outputs": []
    },
    {
      "cell_type": "code",
      "metadata": {
        "colab": {
          "base_uri": "https://localhost:8080/"
        },
        "id": "qL4KBJuR1RvM",
        "outputId": "7cbaf7bf-8a7e-4f08-f958-86711f1a361d"
      },
      "source": [
        "nair"
      ],
      "execution_count": 7,
      "outputs": [
        {
          "output_type": "execute_result",
          "data": {
            "text/plain": [
              "DeviceArray(3.92248816, dtype=float64)"
            ]
          },
          "metadata": {},
          "execution_count": 7
        }
      ]
    },
    {
      "cell_type": "code",
      "metadata": {
        "id": "NpmJha585IHY"
      },
      "source": [
        "def Peq(x):\n",
        "    Tf = x[0]  #give x[0] a more recognizable name Tf referring to the final temperature\n",
        "    Vvap = Vtot - Wi/p.rhol(Tf)  #volume of the vapor phase is total volume - volume of liquid water\n",
        "    Pw = p.Pvap(Tf)   #vapor pressure (partial pressure) of water\n",
        "    Pair = nair * R * Tf / Vvap  #partial pressure of air\n",
        "    return Pw + Pair - Pf"
      ],
      "execution_count": 8,
      "outputs": []
    },
    {
      "cell_type": "code",
      "metadata": {
        "colab": {
          "base_uri": "https://localhost:8080/"
        },
        "id": "gFvrc7Sx2fjj",
        "outputId": "f644532d-f70a-4a90-ecae-45df7d2897e0"
      },
      "source": [
        "root(Peq, [Ti] )"
      ],
      "execution_count": 9,
      "outputs": [
        {
          "output_type": "execute_result",
          "data": {
            "text/plain": [
              "    fjac: array([[-1.]])\n",
              "     fun: -4.94765117764473e-10\n",
              " message: 'The solution converged.'\n",
              "    nfev: 15\n",
              "     qtf: array([2.95082573e-05])\n",
              "       r: array([-3275.86982061])\n",
              "  status: 1\n",
              " success: True\n",
              "       x: array([366.4042891])"
            ]
          },
          "metadata": {},
          "execution_count": 9
        }
      ]
    },
    {
      "cell_type": "code",
      "metadata": {
        "id": "ZIk05ho79qYN"
      },
      "source": [
        "# Case with unknown total volume and unknown final temperature\n",
        "def Peq2(x):\n",
        "    Tf = x[0]  #give x[0] a more recognizable name Tf referring to the final temperature\n",
        "    Vtot = x[1]\n",
        "    nair = (Pi - p.Pvap(Ti))*(Vtot - Wi/p.rhol(Ti))/(R*Ti)\n",
        "    Vvap = Vtot - (Wi- Wn_vap_desired *p.Mw/1e3 )/p.rhol(Tf)  #volume of the vapor phase is total volume - volume of liquid water\n",
        "    Pw = p.Pvap(Tf)   #vapor pressure (partial pressure) of water\n",
        "    Pair = nair * R * Tf / Vvap  #partial pressure of air\n",
        "    Wn_vap = Pw * Vvap / (R*Tf)\n",
        "    return [Pw + Pair - Pf,\n",
        "            Wn_vap - Wn_vap_desired]"
      ],
      "execution_count": 10,
      "outputs": []
    },
    {
      "cell_type": "code",
      "metadata": {
        "id": "-fjFfb2dkELk"
      },
      "source": [
        "Wn_vap_desired = 0.3"
      ],
      "execution_count": 11,
      "outputs": []
    },
    {
      "cell_type": "code",
      "metadata": {
        "colab": {
          "base_uri": "https://localhost:8080/"
        },
        "id": "k-Npkyx6kS6i",
        "outputId": "68ffc45a-b201-41bd-8ae5-af2d2b5ca496"
      },
      "source": [
        "root(Peq2, (360, 0.01))"
      ],
      "execution_count": 12,
      "outputs": [
        {
          "output_type": "execute_result",
          "data": {
            "text/plain": [
              "    fjac: array([[-1.00000000e+00, -2.54859507e-05],\n",
              "       [ 2.54859507e-05, -1.00000000e+00]])\n",
              "     fun: array([-2.83762347e-07, -2.89094026e-10])\n",
              " message: 'The solution converged.'\n",
              "    nfev: 10\n",
              "     qtf: array([ 8.60972785e-06, -4.22104980e-09])\n",
              "       r: array([-3349.2981698 , 14003.99390108,   -25.45094286])\n",
              "  status: 1\n",
              " success: True\n",
              "       x: array([3.66365459e+02, 1.25633477e-02])"
            ]
          },
          "metadata": {},
          "execution_count": 12
        }
      ]
    },
    {
      "cell_type": "code",
      "metadata": {
        "id": "lHvhnb0lr6b8"
      },
      "source": [
        ""
      ],
      "execution_count": 13,
      "outputs": []
    }
  ]
}