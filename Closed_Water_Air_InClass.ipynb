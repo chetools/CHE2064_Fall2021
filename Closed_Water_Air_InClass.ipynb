{
  "nbformat": 4,
  "nbformat_minor": 0,
  "metadata": {
    "colab": {
      "name": "Closed_Water_Air_InClass.ipynb",
      "provenance": [],
      "authorship_tag": "ABX9TyMFt6zXr8sU10wNFyQr26ND",
      "include_colab_link": true
    },
    "kernelspec": {
      "name": "python3",
      "display_name": "Python 3"
    },
    "language_info": {
      "name": "python"
    }
  },
  "cells": [
    {
      "cell_type": "markdown",
      "metadata": {
        "id": "view-in-github",
        "colab_type": "text"
      },
      "source": [
        "<a href=\"https://colab.research.google.com/github/profteachkids/CHE2064_Fall2021/blob/main/Closed_Water_Air_InClass.ipynb\" target=\"_parent\"><img src=\"https://colab.research.google.com/assets/colab-badge.svg\" alt=\"Open In Colab\"/></a>"
      ]
    },
    {
      "cell_type": "code",
      "metadata": {
        "id": "HN_9PBkXxwnV"
      },
      "source": [
        "!git clone --depth 1 https://github.com/profteachkids/chetools.git &> /dev/null\n",
        "import sys\n",
        "sys.path.insert(1, \"/content/chetools\") #Path to CHE module imports"
      ],
      "execution_count": 2,
      "outputs": []
    },
    {
      "cell_type": "code",
      "metadata": {
        "id": "uSBekx7qyGY-"
      },
      "source": [
        "import tools.che as che\n",
        "from scipy.optimize import root\n",
        "R=8.314 #J/(mol K)"
      ],
      "execution_count": 3,
      "outputs": []
    },
    {
      "cell_type": "code",
      "metadata": {
        "id": "XoyAyavIy_i3",
        "colab": {
          "base_uri": "https://localhost:8080/"
        },
        "outputId": "5f502dbb-e378-4173-c663-8a9f5347758a"
      },
      "source": [
        "p=che.Props(['Water'])"
      ],
      "execution_count": 4,
      "outputs": [
        {
          "output_type": "stream",
          "name": "stderr",
          "text": [
            "WARNING:absl:No GPU/TPU found, falling back to CPU. (Set TF_CPP_MIN_LOG_LEVEL=0 and rerun for more info.)\n"
          ]
        }
      ]
    },
    {
      "cell_type": "code",
      "metadata": {
        "id": "6xkB860DzaKB"
      },
      "source": [
        "Vtot = 0.01 #m3\n",
        "Wi = 1 #kg\n",
        "Pi = 101325 #Pa\n",
        "Pf = 2e5 #Pa (desired final pressure)\n",
        "Ti = 298 #K (initial temperature)"
      ],
      "execution_count": 8,
      "outputs": []
    },
    {
      "cell_type": "code",
      "metadata": {
        "colab": {
          "base_uri": "https://localhost:8080/"
        },
        "id": "u1PqyKkg2BP4",
        "outputId": "f6bd8080-1ec5-4a16-e4e4-eccd0b236d73"
      },
      "source": [
        "p.rhol(Ti)  # density of the compound in the liquid phase  (water)"
      ],
      "execution_count": 9,
      "outputs": [
        {
          "output_type": "execute_result",
          "data": {
            "text/plain": [
              "DeviceArray(995.0336223, dtype=float64)"
            ]
          },
          "metadata": {},
          "execution_count": 9
        }
      ]
    },
    {
      "cell_type": "code",
      "metadata": {
        "id": "8fw_6psC0niX"
      },
      "source": [
        "nair = (Pi - p.Pvap(Ti))*(Vtot - Wi/p.rhol(Ti))/(R*Ti)  # number of moles of air in vapor phase, this is fixed between initial and final states"
      ],
      "execution_count": 10,
      "outputs": []
    },
    {
      "cell_type": "code",
      "metadata": {
        "colab": {
          "base_uri": "https://localhost:8080/"
        },
        "id": "qL4KBJuR1RvM",
        "outputId": "6501af18-e486-4d71-8558-089732e397e5"
      },
      "source": [
        "nair"
      ],
      "execution_count": 11,
      "outputs": [
        {
          "output_type": "execute_result",
          "data": {
            "text/plain": [
              "DeviceArray(0.35641005, dtype=float64)"
            ]
          },
          "metadata": {},
          "execution_count": 11
        }
      ]
    },
    {
      "cell_type": "code",
      "metadata": {
        "id": "NpmJha585IHY"
      },
      "source": [
        "def Peq(x):\n",
        "    Tf = x[0]  #give x[0] a more recognizable name Tf referring to the final temperature\n",
        "    Vvap = Vtot - Wi/p.rhol(Tf)  #volume of the vapor phase is total volume - volume of liquid water\n",
        "    Pw = p.Pvap(Tf)   #vapor pressure (partial pressure) of water\n",
        "    Pair = nair * R * Tf / Vvap  #partial pressure of air\n",
        "    return Pw + Pair - Pf"
      ],
      "execution_count": 12,
      "outputs": []
    },
    {
      "cell_type": "code",
      "metadata": {
        "colab": {
          "base_uri": "https://localhost:8080/"
        },
        "id": "gFvrc7Sx2fjj",
        "outputId": "21345ad4-d313-40d4-8931-1cd78f6bdbdf"
      },
      "source": [
        "root(Peq, [Ti] )"
      ],
      "execution_count": 13,
      "outputs": [
        {
          "output_type": "execute_result",
          "data": {
            "text/plain": [
              "    fjac: array([[-1.]])\n",
              "     fun: -5.820766091346741e-11\n",
              " message: 'The solution converged.'\n",
              "    nfev: 15\n",
              "     qtf: array([8.29418423e-06])\n",
              "       r: array([-3273.74331966])\n",
              "  status: 1\n",
              " success: True\n",
              "       x: array([366.32947027])"
            ]
          },
          "metadata": {},
          "execution_count": 13
        }
      ]
    },
    {
      "cell_type": "code",
      "metadata": {
        "id": "ZIk05ho79qYN"
      },
      "source": [
        "# Case with unknown total volume and unknown final temperature\n",
        "def Peq2(x):\n",
        "    Tf = x[0]  #give x[0] a more recognizable name Tf referring to the final temperature\n",
        "    Vtot = x[1]\n",
        "    Vvap = Vtot - (Wi- Wn_vap_desired *p.Mw/1e3 )/p.rhol(Tf)  #volume of the vapor phase is total volume - volume of liquid water\n",
        "    Pw = p.Pvap(Tf)   #vapor pressure (partial pressure) of water\n",
        "    Pair = nair * R * Tf / Vvap  #partial pressure of air\n",
        "    Wn_vap = Pw * Vvap / (R*Tf)\n",
        "    return [Pw + Pair - Pf,\n",
        "            Wn_vap - Wn_vap_desired]"
      ],
      "execution_count": 18,
      "outputs": []
    },
    {
      "cell_type": "code",
      "metadata": {
        "id": "-fjFfb2dkELk"
      },
      "source": [
        "Wn_vap_desired = 0.3"
      ],
      "execution_count": 15,
      "outputs": []
    },
    {
      "cell_type": "code",
      "metadata": {
        "colab": {
          "base_uri": "https://localhost:8080/"
        },
        "id": "k-Npkyx6kS6i",
        "outputId": "e0f19c7a-4f57-40fb-facb-79598689a167"
      },
      "source": [
        "root(Peq2, (360, 0.01))"
      ],
      "execution_count": 23,
      "outputs": [
        {
          "output_type": "execute_result",
          "data": {
            "text/plain": [
              "    fjac: array([[-1.00000000e+00, -2.79133799e-06],\n",
              "       [ 2.79133799e-06, -1.00000000e+00]])\n",
              "     fun: array([-1.40904449e-05, -4.55219751e-11])\n",
              " message: 'The solution converged.'\n",
              "    nfev: 9\n",
              "     qtf: array([1.77348664e-03, 8.40729224e-10])\n",
              "       r: array([-3.66140659e+03,  1.15610414e+07, -5.93347280e+01])\n",
              "  status: 1\n",
              " success: True\n",
              "       x: array([3.70283132e+02, 1.11246776e-02])"
            ]
          },
          "metadata": {},
          "execution_count": 23
        }
      ]
    },
    {
      "cell_type": "code",
      "metadata": {
        "colab": {
          "base_uri": "https://localhost:8080/"
        },
        "id": "ovaOn0WUlbiV",
        "outputId": "16321570-c70a-40a0-d6a2-9f47c0729306"
      },
      "source": [
        "p.Pvap(273.16)"
      ],
      "execution_count": 24,
      "outputs": [
        {
          "output_type": "execute_result",
          "data": {
            "text/plain": [
              "DeviceArray(615.10615899, dtype=float64)"
            ]
          },
          "metadata": {},
          "execution_count": 24
        }
      ]
    },
    {
      "cell_type": "code",
      "metadata": {
        "id": "lHvhnb0lr6b8"
      },
      "source": [
        ""
      ],
      "execution_count": null,
      "outputs": []
    }
  ]
}